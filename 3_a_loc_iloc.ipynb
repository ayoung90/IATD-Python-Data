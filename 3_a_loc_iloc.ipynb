{
 "cells": [
  {
   "attachments": {},
   "cell_type": "markdown",
   "metadata": {},
   "source": [
    "# Extracting a single value\n",
    "\n",
    "## By square bracket notation\n",
    "\n",
    "We can extract a single value by using the square bracket notation twice.  For example, I can get the 11,000th value from the rainfall amount column like this.a row or a column from a data frame/series.  This is a simple consequence of the fact that square bracket notation works on both data frames _and_ series.  The left-most one is working on a data frame and returning a series, the second one is working on the series.\n"
   ]
  },
  {
   "cell_type": "code",
   "execution_count": 1,
   "metadata": {},
   "outputs": [
    {
     "data": {
      "text/plain": [
       "0.5"
      ]
     },
     "execution_count": 1,
     "metadata": {},
     "output_type": "execute_result"
    }
   ],
   "source": [
    "import pandas as pd\n",
    "\n",
    "wentworth = pd.read_csv(\"data/rainfall/IDCJAC0009_047045_1800_Data.csv\")\n",
    "wentworth[\"Rainfall amount (millimetres)\"][11000]"
   ]
  },
  {
   "attachments": {},
   "cell_type": "markdown",
   "metadata": {},
   "source": [
    "## By Summarising\n",
    "\n",
    "Pandas provides some \"magic\" when it comes to summarising columns.  Series have a set of \"methods\" attached to them that you can call any time you like to get summaries.  Note that these summaries work on Series, so you should extract them first.  Examples are:\n",
    "  * add up all elements (`sum`)\n",
    "  * calculate the average (`mean`) or mode (`mode`)\n",
    "  * find the largest (`max`) or smallest (`min`)."
   ]
  },
  {
   "cell_type": "code",
   "execution_count": 5,
   "metadata": {},
   "outputs": [
    {
     "name": "stdout",
     "output_type": "stream",
     "text": [
      "Sum\t=\t22346.199999999997\n",
      "Mean\t=\t0.6992802603579922\n",
      "Mode\t=\t0.0\n",
      "Max\t=\t113.0\n",
      "Min\t=\t0.0\n"
     ]
    }
   ],
   "source": [
    "wentworth_sum = wentworth[\"Rainfall amount (millimetres)\"].sum()\n",
    "# Exercise, try out mean, mode, min, and max\n",
    "\n",
    "wentworth_mean = wentworth[\"Rainfall amount (millimetres)\"].mean()\n",
    "wentworth_mode = wentworth[\"Rainfall amount (millimetres)\"].mode()\n",
    "wentworth_largest = wentworth[\"Rainfall amount (millimetres)\"].max()\n",
    "wentworth_smallest = wentworth[\"Rainfall amount (millimetres)\"].min()\n",
    "\n",
    "print(\n",
    "      \"Sum\\t=\\t\"    + str(wentworth_sum)\n",
    "    + \"\\nMean\\t=\\t\" + str(wentworth_mean)\n",
    "    + \"\\nMode\\t=\\t\" + str(wentworth_mode[0])\n",
    "    + \"\\nMax\\t=\\t\"  + str(wentworth_largest)\n",
    "    + \"\\nMin\\t=\\t\"  + str(wentworth_smallest)\n",
    ")"
   ]
  },
  {
   "attachments": {},
   "cell_type": "markdown",
   "metadata": {},
   "source": [
    "# Example\n",
    "\n",
    "What is the largest rainfall day for Richmond RAAF base (which is in the file `data/rainfall/IDCJAC0009_067105_1800_Data.csv`)?\n",
    "\n",
    "Which of our rainfall files has the highest average rainfall?"
   ]
  },
  {
   "cell_type": "code",
   "execution_count": 40,
   "metadata": {},
   "outputs": [
    {
     "name": "stdout",
     "output_type": "stream",
     "text": [
      "The date of max rain(126.4mm) was 3/3/2022\n",
      "data/rainfall\\IDCJAC0009_047045_1800_Data.csv\n",
      "data/rainfall\\IDCJAC0009_049092_1800_Data.csv\n",
      "data/rainfall\\IDCJAC0009_063049_1800_Data.csv\n",
      "data/rainfall\\IDCJAC0009_063245_1800_Data.csv\n",
      "data/rainfall\\IDCJAC0009_063292_1800_Data.csv\n",
      "data/rainfall\\IDCJAC0009_063298_1800_Data.csv\n",
      "data/rainfall\\IDCJAC0009_065019_1800_Data.csv\n",
      "data/rainfall\\IDCJAC0009_066119_1800_Data.csv\n",
      "data/rainfall\\IDCJAC0009_066128_1800_Data.csv\n",
      "data/rainfall\\IDCJAC0009_067105_1800_Data.csv\n",
      "data/rainfall\\IDCJAC0009_075167_1800_Data.csv\n"
     ]
    },
    {
     "data": {
      "text/html": [
       "<div>\n",
       "<style scoped>\n",
       "    .dataframe tbody tr th:only-of-type {\n",
       "        vertical-align: middle;\n",
       "    }\n",
       "\n",
       "    .dataframe tbody tr th {\n",
       "        vertical-align: top;\n",
       "    }\n",
       "\n",
       "    .dataframe thead th {\n",
       "        text-align: right;\n",
       "    }\n",
       "</style>\n",
       "<table border=\"1\" class=\"dataframe\">\n",
       "  <thead>\n",
       "    <tr style=\"text-align: right;\">\n",
       "      <th></th>\n",
       "      <th>file_name</th>\n",
       "      <th>average_rainfall</th>\n",
       "    </tr>\n",
       "  </thead>\n",
       "  <tbody>\n",
       "    <tr>\n",
       "      <th>7</th>\n",
       "      <td>data/rainfall\\IDCJAC0009_066119_1800_Data.csv</td>\n",
       "      <td>3.213411</td>\n",
       "    </tr>\n",
       "  </tbody>\n",
       "</table>\n",
       "</div>"
      ],
      "text/plain": [
       "                                       file_name  average_rainfall\n",
       "7  data/rainfall\\IDCJAC0009_066119_1800_Data.csv          3.213411"
      ]
     },
     "execution_count": 40,
     "metadata": {},
     "output_type": "execute_result"
    }
   ],
   "source": [
    "###############################################################################\n",
    "# What is the largest rainfall day for Richmond RAAF base\n",
    "###############################################################################\n",
    "richmond_raaf = pd.read_csv(\"data/rainfall/IDCJAC0009_067105_1800_Data.csv\")\n",
    "\n",
    "max_rain_idx = richmond_raaf[\"Rainfall amount (millimetres)\"].idxmax()\n",
    "\n",
    "max_df = richmond_raaf.loc[max_rain_idx]\n",
    "\n",
    "max_rain = max_df[\"Rainfall amount (millimetres)\"]\n",
    "max_day = max_df[\"Day\"]\n",
    "max_month = max_df[\"Month\"]\n",
    "max_year = max_df[\"Year\"]\n",
    "\n",
    "fmt_date = str(max_day) + '/' + str(max_month) + '/' + str(max_year)\n",
    "\n",
    "print(f'The date of max rain({max_rain}mm) was {fmt_date}')\n",
    "\n",
    "###############################################################################\n",
    "#Which of our rainfall files has the highest average rainfall?\n",
    "###############################################################################\n",
    "import glob\n",
    "file_path = \"data/rainfall/*Data.csv\"\n",
    "\n",
    "rainfall_mode_dict = {'file_name':[], 'average_rainfall':[]}\n",
    "\n",
    "# read each file into a dataframe. get the mean value to append to the mode dict\n",
    "for file_name in glob.glob(file_path):\n",
    "    print (file_name)\n",
    "    file_df = pd.read_csv(file_name)\n",
    "\n",
    "    average_rainfall = file_df[\"Rainfall amount (millimetres)\"].mean()\n",
    "    rainfall_mode_dict[\"file_name\"].append(file_name)\n",
    "    rainfall_mode_dict[\"average_rainfall\"].append(average_rainfall)\n",
    "\n",
    "#create dataframe from dict\n",
    "rainfall_df = pd.DataFrame(rainfall_mode_dict)\n",
    "\n",
    "#sort descending order\n",
    "rainfall_df_desc = rainfall_df.sort_values(by=\"average_rainfall\",ascending=False)\n",
    "\n",
    "#return the first row of the dataframe (containing the max average rainfall)\n",
    "rainfall_df_desc.head(1)"
   ]
  },
  {
   "attachments": {},
   "cell_type": "markdown",
   "metadata": {},
   "source": [
    "# Exercise\n",
    "\n",
    "What is the total rainfall recorded for Meriwagga (rainfall file 075167)?  What is the maximum and minimum rainfall on any one day?  I am sure you can guess the minimum, but what code will give it to you?"
   ]
  },
  {
   "cell_type": "code",
   "execution_count": 41,
   "metadata": {},
   "outputs": [
    {
     "name": "stdout",
     "output_type": "stream",
     "text": [
      "The total amount of rain was 15648.6\n",
      "The date of max rain(86.0mm) was 3/12/2017\n",
      "The date of min rain(0.0mm) was 22/8/1975\n"
     ]
    }
   ],
   "source": [
    "\n",
    "meriwagga_df = pd.read_csv(\"data/rainfall/IDCJAC0009_075167_1800_Data.csv\")\n",
    "\n",
    "total_rainfall = meriwagga_df[\"Rainfall amount (millimetres)\"].sum()\n",
    "\n",
    "print(f'The total amount of rain was {total_rainfall}')\n",
    "\n",
    "# Max rainfall day\n",
    "max_rain_idx = meriwagga_df[\"Rainfall amount (millimetres)\"].idxmax()\n",
    "\n",
    "max_df = meriwagga_df.loc[max_rain_idx]\n",
    "\n",
    "max_rain = max_df[\"Rainfall amount (millimetres)\"]\n",
    "fmt_date = str(max_df[\"Day\"]) + '/' + str(max_df[\"Month\"]) + '/' + str(max_df[\"Year\"])\n",
    "\n",
    "print(f'The date of max rain({max_rain}mm) was {fmt_date}')\n",
    "\n",
    "# Min rainfall day\n",
    "min_rain_idx = meriwagga_df[\"Rainfall amount (millimetres)\"].idxmin()\n",
    "\n",
    "min_df = meriwagga_df.loc[min_rain_idx]\n",
    "\n",
    "min_rain = min_df[\"Rainfall amount (millimetres)\"]\n",
    "fmt_date = str(min_df[\"Day\"]) + '/' + str(min_df[\"Month\"]) + '/' + str(min_df[\"Year\"])\n",
    "\n",
    "print(f'The date of min rain({min_rain}mm) was {fmt_date}')\n",
    "\n"
   ]
  },
  {
   "attachments": {},
   "cell_type": "markdown",
   "metadata": {},
   "source": [
    "## By `loc` and `iloc`\n",
    "\n",
    "We've seen how to recover a Series from a DataFrame - i.e. how to extract a column.\n",
    "\n",
    "Lets see how to extract a row.\n",
    "\n",
    "It is important to realise that, since DataFrames are built from Series, it is somewhat awkward to pull out a single row.  In effect, we are asking for pandas to visit each Series and grab the value at a particular index.\n",
    "\n",
    "Instead of doing this though, we will use the `loc` functionality of pandas.\n",
    "\n",
    "`loc` and `iloc` are functions that can get columns _or rows_.  `loc` goes by column name when getting columns and by index when getting rows.  `iloc` goes by the order of the column when getting columns and the order of the row when getting rows.\n",
    "\n",
    "`loc` and `iloc` actually take two parameters to look up both axis at once."
   ]
  },
  {
   "cell_type": "code",
   "execution_count": null,
   "metadata": {},
   "outputs": [],
   "source": [
    "wentworth.loc[1110, \"Rainfall amount (millimetres)\"]"
   ]
  },
  {
   "cell_type": "markdown",
   "metadata": {},
   "source": [
    "but (as you can see) does it _row first_.  This means if we only give one, they will look up by row and give you back a series for that row.  It looks like the table was \"flipped\", but that is not really what happens."
   ]
  },
  {
   "cell_type": "code",
   "execution_count": null,
   "metadata": {},
   "outputs": [],
   "source": [
    "wentworth.loc[1110]"
   ]
  },
  {
   "attachments": {},
   "cell_type": "markdown",
   "metadata": {},
   "source": [
    "# Example\n",
    "\n",
    "What was the rainfall for the 1st May 2019 in Richmond RAF?"
   ]
  },
  {
   "attachments": {},
   "cell_type": "markdown",
   "metadata": {},
   "source": [
    "# Exercise\n",
    "\n",
    "What is the title of the 6th row in the `workouts.csv` file?"
   ]
  },
  {
   "attachments": {},
   "cell_type": "markdown",
   "metadata": {},
   "source": [
    "# Using `loc`/`iloc` for everything?\n",
    "\n",
    "Many pandas programmers just use `loc` and `iloc` for everything but I will not.  Using them \"hides\" the underlying working of pandas and since we are here to learn, that doesn't suit us.  We will use it when we need to, but stick to square bracket notation as much as possible.  If you post a question on stack overflow you will probably get a `loc`/`iloc` based answer though, so we want to make sure you really know how they work."
   ]
  }
 ],
 "metadata": {
  "kernelspec": {
   "display_name": "Python 3",
   "language": "python",
   "name": "python3"
  },
  "language_info": {
   "codemirror_mode": {
    "name": "ipython",
    "version": 3
   },
   "file_extension": ".py",
   "mimetype": "text/x-python",
   "name": "python",
   "nbconvert_exporter": "python",
   "pygments_lexer": "ipython3",
   "version": "3.8.10"
  },
  "orig_nbformat": 4
 },
 "nbformat": 4,
 "nbformat_minor": 2
}
