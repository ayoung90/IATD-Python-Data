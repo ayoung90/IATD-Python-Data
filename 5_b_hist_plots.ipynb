{
 "cells": [
  {
   "cell_type": "markdown",
   "metadata": {},
   "source": [
    "The basic operation of `plot` is extended with the `kind` parameter.  For example, here is a an example of a histogram.  Note that histogram will autmatically bucket the data for you!  Thus we automatically get a plot of the number of days with each level of rainfall.  So helpful.\n",
    "\n",
    "By the way, if you are interested in when to use a histogram vs when to use a bar graph - [this page has quite a nice explanation](https://www.storytellingwithdata.com/blog/2021/1/28/histograms-and-bar-charts)"
   ]
  },
  {
   "cell_type": "code",
   "execution_count": null,
   "metadata": {},
   "outputs": [],
   "source": [
    "import pandas as pd\n",
    "\n",
    "rainfall = pd.read_csv(\"data/rainfall/IDCJAC0009_063292_1800_Data.csv\")\n",
    "choose_2022 = rainfall[\"Year\"] == 2022\n",
    "amount_2022 = rainfall[choose_2022][\"Rainfall amount (millimetres)\"]\n",
    "\n",
    "amount_2022.plot(kind=\"hist\")"
   ]
  },
  {
   "cell_type": "markdown",
   "metadata": {},
   "source": [
    "We should now be on-guard since a single extra parameter has done a power of work for us!  This is OK, but we must know that the `kind` parameter _can do data summarisation for us_.\n",
    "\n",
    "# Exercise - its all bunched up on the left!\n",
    "\n",
    "There are far too many 0mm rainfall days.  Can you create a similar bar plot which includes all years but excludes all days with 0mm of rain? \n",
    "\n",
    "How about greater than 10mm rain?  Greater than 40mm rain?  Discuss why you might consider `logy=True` and what that even means.  I don't know about you, but this fairly obvious pattern (when you think about it) was not obvious to me - the plot taught me something!\n"
   ]
  },
  {
   "cell_type": "code",
   "execution_count": null,
   "metadata": {},
   "outputs": [],
   "source": [
    "import matplotlib.pyplot as plt\n",
    "\n",
    "rainfall_df = pd.read_csv(\"data/rainfall/IDCJAC0009_063292_1800_Data.csv\")\n",
    "\n",
    "#create masks\n",
    "rainfall_not_null_mask = (rainfall_df[\"Rainfall amount (millimetres)\"].isnull() == False) & (rainfall_df[\"Rainfall amount (millimetres)\"] > 0)\n",
    "rainfall_mask = rainfall_df[\"Rainfall amount (millimetres)\"] > 10\n",
    "\n",
    "#filter dataframe\n",
    "rain_over_10mm_df = rainfall_df[rainfall_not_null_mask & rainfall_mask]\n",
    "\n",
    "#render hist plot\n",
    "rain_over_10mm_df[\"Rainfall amount (millimetres)\"].plot(kind=\"hist\")\n",
    "plt.show()\n",
    "\n",
    "#render hist plot with log scale\n",
    "rain_over_10mm_df[\"Rainfall amount (millimetres)\"].plot(kind=\"hist\", logy=True)\n",
    "plt.show()"
   ]
  }
 ],
 "metadata": {
  "kernelspec": {
   "display_name": "Python 3",
   "language": "python",
   "name": "python3"
  },
  "language_info": {
   "codemirror_mode": {
    "name": "ipython",
    "version": 3
   },
   "file_extension": ".py",
   "mimetype": "text/x-python",
   "name": "python",
   "nbconvert_exporter": "python",
   "pygments_lexer": "ipython3",
   "version": "3.8.10"
  },
  "orig_nbformat": 4
 },
 "nbformat": 4,
 "nbformat_minor": 2
}
