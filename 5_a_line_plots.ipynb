{
 "cells": [
  {
   "cell_type": "markdown",
   "metadata": {},
   "source": [
    "# Visualisation\n",
    "\n",
    "We are going to learn the single method `plot`.  Sounds like an easy worksheet, but this one method can do lots of things.  As you see all the options, think of the base concepts at play.  What is a method call, what is a parameter, what values are series and which are data frames?\n",
    "\n",
    "[The pandas documentation for visualisation](https://pandas.pydata.org/docs/user_guide/visualization.html) is quite good.  You might consider consulting it as you go through this worksheet.\n",
    "\n",
    "## Choosing the right viz\n",
    "\n",
    "Key to effective use of visualisation is choosing the right visualisation for the data you have.  The following table is a rough guide\n",
    "\n",
    "| plot | use |\n",
    "|------|-----|\n",
    "| line | time series data |\n",
    "| bar  | comparison of quantities |\n",
    "| box  | comparison of a spread of values | \n",
    "| scatter | looking for correlations |\n",
    "| pie | data adds up to a whole |\n",
    "| hexbin | looking for correlations in high-denisty data |\n",
    "| grouped scatter | looking for characteristic differences in populations |\n",
    "\n",
    "# `plot`\n",
    "\n",
    "Everything comes down to this one method.  As a base it:\n",
    "  * works on a series\n",
    "  * creates a line plot\n",
    "\n",
    "In this example, I plot the cummulative rainfall for Mt Boyce in 2022.  Note, I use the [`cumsum` method](https://pandas.pydata.org/docs/reference/api/pandas.Series.cumsum.html) that makes a new series from an existing series and plot that instead of plotting data from the original frame"
   ]
  },
  {
   "cell_type": "code",
   "execution_count": null,
   "metadata": {},
   "outputs": [],
   "source": [
    "import pandas as pd\n",
    "\n",
    "rainfall = pd.read_csv(\"data/rainfall/IDCJAC0009_063292_1800_Data.csv\")\n",
    "choose_2022 = rainfall[\"Year\"] == 2022\n",
    "amount_2022 = rainfall[choose_2022][\"Rainfall amount (millimetres)\"]\n",
    "cummulative_2022 = amount_2022.cumsum()\n",
    "ax=cummulative_2022.plot(legend=True)"
   ]
  },
  {
   "cell_type": "markdown",
   "metadata": {},
   "source": [
    "# Exercise - rainfall line\n",
    "\n",
    "Use a line plot to plot the \"Rainfall amount (millimetres)\" series from Mt Kuringai (station 066119).  This plot is much harder to interpret - why is this?  Can you see why we plotted cummulative rainfall instead?"
   ]
  },
  {
   "cell_type": "code",
   "execution_count": 19,
   "metadata": {},
   "outputs": [
    {
     "data": {
      "text/plain": [
       "0            NaN\n",
       "1            NaN\n",
       "2            NaN\n",
       "3            NaN\n",
       "4            NaN\n",
       "          ...   \n",
       "21545    67880.3\n",
       "21546    67880.3\n",
       "21547    67880.3\n",
       "21548    67883.3\n",
       "21549    67883.3\n",
       "Name: Rainfall amount (cumulative mm), Length: 21550, dtype: float64"
      ]
     },
     "metadata": {},
     "output_type": "display_data"
    },
    {
     "ename": "KeyError",
     "evalue": "'Rainfall amount cumulative'",
     "output_type": "error",
     "traceback": [
      "\u001b[1;31m---------------------------------------------------------------------------\u001b[0m",
      "\u001b[1;31mKeyError\u001b[0m                                  Traceback (most recent call last)",
      "File \u001b[1;32m~\\AppData\\Local\\Packages\\PythonSoftwareFoundation.Python.3.8_qbz5n2kfra8p0\\LocalCache\\local-packages\\Python38\\site-packages\\pandas\\core\\indexes\\base.py:3653\u001b[0m, in \u001b[0;36mIndex.get_loc\u001b[1;34m(self, key)\u001b[0m\n\u001b[0;32m   3652\u001b[0m \u001b[39mtry\u001b[39;00m:\n\u001b[1;32m-> 3653\u001b[0m     \u001b[39mreturn\u001b[39;00m \u001b[39mself\u001b[39;49m\u001b[39m.\u001b[39;49m_engine\u001b[39m.\u001b[39;49mget_loc(casted_key)\n\u001b[0;32m   3654\u001b[0m \u001b[39mexcept\u001b[39;00m \u001b[39mKeyError\u001b[39;00m \u001b[39mas\u001b[39;00m err:\n",
      "File \u001b[1;32m~\\AppData\\Local\\Packages\\PythonSoftwareFoundation.Python.3.8_qbz5n2kfra8p0\\LocalCache\\local-packages\\Python38\\site-packages\\pandas\\_libs\\index.pyx:147\u001b[0m, in \u001b[0;36mpandas._libs.index.IndexEngine.get_loc\u001b[1;34m()\u001b[0m\n",
      "File \u001b[1;32m~\\AppData\\Local\\Packages\\PythonSoftwareFoundation.Python.3.8_qbz5n2kfra8p0\\LocalCache\\local-packages\\Python38\\site-packages\\pandas\\_libs\\index.pyx:176\u001b[0m, in \u001b[0;36mpandas._libs.index.IndexEngine.get_loc\u001b[1;34m()\u001b[0m\n",
      "File \u001b[1;32mpandas\\_libs\\hashtable_class_helper.pxi:7080\u001b[0m, in \u001b[0;36mpandas._libs.hashtable.PyObjectHashTable.get_item\u001b[1;34m()\u001b[0m\n",
      "File \u001b[1;32mpandas\\_libs\\hashtable_class_helper.pxi:7088\u001b[0m, in \u001b[0;36mpandas._libs.hashtable.PyObjectHashTable.get_item\u001b[1;34m()\u001b[0m\n",
      "\u001b[1;31mKeyError\u001b[0m: 'Rainfall amount cumulative'",
      "\nThe above exception was the direct cause of the following exception:\n",
      "\u001b[1;31mKeyError\u001b[0m                                  Traceback (most recent call last)",
      "Cell \u001b[1;32mIn[19], line 11\u001b[0m\n\u001b[0;32m      7\u001b[0m mt_kuringai[\u001b[39m\"\u001b[39m\u001b[39mRainfall amount (cumulative mm)\u001b[39m\u001b[39m\"\u001b[39m] \u001b[39m=\u001b[39m rainfall\u001b[39m.\u001b[39mcumsum()\n\u001b[0;32m      9\u001b[0m display(mt_kuringai[\u001b[39m\"\u001b[39m\u001b[39mRainfall amount (cumulative mm)\u001b[39m\u001b[39m\"\u001b[39m])\n\u001b[1;32m---> 11\u001b[0m mt_kuringai[\u001b[39m\"\u001b[39;49m\u001b[39mRainfall amount cumulative\u001b[39;49m\u001b[39m\"\u001b[39;49m]\u001b[39m.\u001b[39mplot(legend\u001b[39m=\u001b[39m\u001b[39mTrue\u001b[39;00m)\n",
      "File \u001b[1;32m~\\AppData\\Local\\Packages\\PythonSoftwareFoundation.Python.3.8_qbz5n2kfra8p0\\LocalCache\\local-packages\\Python38\\site-packages\\pandas\\core\\frame.py:3761\u001b[0m, in \u001b[0;36mDataFrame.__getitem__\u001b[1;34m(self, key)\u001b[0m\n\u001b[0;32m   3759\u001b[0m \u001b[39mif\u001b[39;00m \u001b[39mself\u001b[39m\u001b[39m.\u001b[39mcolumns\u001b[39m.\u001b[39mnlevels \u001b[39m>\u001b[39m \u001b[39m1\u001b[39m:\n\u001b[0;32m   3760\u001b[0m     \u001b[39mreturn\u001b[39;00m \u001b[39mself\u001b[39m\u001b[39m.\u001b[39m_getitem_multilevel(key)\n\u001b[1;32m-> 3761\u001b[0m indexer \u001b[39m=\u001b[39m \u001b[39mself\u001b[39;49m\u001b[39m.\u001b[39;49mcolumns\u001b[39m.\u001b[39;49mget_loc(key)\n\u001b[0;32m   3762\u001b[0m \u001b[39mif\u001b[39;00m is_integer(indexer):\n\u001b[0;32m   3763\u001b[0m     indexer \u001b[39m=\u001b[39m [indexer]\n",
      "File \u001b[1;32m~\\AppData\\Local\\Packages\\PythonSoftwareFoundation.Python.3.8_qbz5n2kfra8p0\\LocalCache\\local-packages\\Python38\\site-packages\\pandas\\core\\indexes\\base.py:3655\u001b[0m, in \u001b[0;36mIndex.get_loc\u001b[1;34m(self, key)\u001b[0m\n\u001b[0;32m   3653\u001b[0m     \u001b[39mreturn\u001b[39;00m \u001b[39mself\u001b[39m\u001b[39m.\u001b[39m_engine\u001b[39m.\u001b[39mget_loc(casted_key)\n\u001b[0;32m   3654\u001b[0m \u001b[39mexcept\u001b[39;00m \u001b[39mKeyError\u001b[39;00m \u001b[39mas\u001b[39;00m err:\n\u001b[1;32m-> 3655\u001b[0m     \u001b[39mraise\u001b[39;00m \u001b[39mKeyError\u001b[39;00m(key) \u001b[39mfrom\u001b[39;00m \u001b[39merr\u001b[39;00m\n\u001b[0;32m   3656\u001b[0m \u001b[39mexcept\u001b[39;00m \u001b[39mTypeError\u001b[39;00m:\n\u001b[0;32m   3657\u001b[0m     \u001b[39m# If we have a listlike key, _check_indexing_error will raise\u001b[39;00m\n\u001b[0;32m   3658\u001b[0m     \u001b[39m#  InvalidIndexError. Otherwise we fall through and re-raise\u001b[39;00m\n\u001b[0;32m   3659\u001b[0m     \u001b[39m#  the TypeError.\u001b[39;00m\n\u001b[0;32m   3660\u001b[0m     \u001b[39mself\u001b[39m\u001b[39m.\u001b[39m_check_indexing_error(key)\n",
      "\u001b[1;31mKeyError\u001b[0m: 'Rainfall amount cumulative'"
     ]
    }
   ],
   "source": [
    "# put solution here\n",
    "mt_kuringai = pd.read_csv(\"data/rainfall/IDCJAC0009_066119_1800_Data.csv\")\n",
    "rainfall = mt_kuringai[\"Rainfall amount (millimetres)\"]\n",
    "\n",
    "#ax=rainfall.plot(legend=True)\n",
    "\n",
    "mt_kuringai[\"Rainfall amount (cumulative mm)\"] = rainfall.cumsum()\n",
    "\n",
    "display(mt_kuringai[\"Rainfall amount (cumulative mm)\"])\n",
    "\n",
    "mt_kuringai[\"Rainfall amount (cumulative mm)\"].plot(legend=True)"
   ]
  }
 ],
 "metadata": {
  "kernelspec": {
   "display_name": "Python 3",
   "language": "python",
   "name": "python3"
  },
  "language_info": {
   "codemirror_mode": {
    "name": "ipython",
    "version": 3
   },
   "file_extension": ".py",
   "mimetype": "text/x-python",
   "name": "python",
   "nbconvert_exporter": "python",
   "pygments_lexer": "ipython3",
   "version": "3.8.10"
  },
  "orig_nbformat": 4
 },
 "nbformat": 4,
 "nbformat_minor": 2
}
