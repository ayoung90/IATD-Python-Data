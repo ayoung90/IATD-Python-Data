{
 "cells": [
  {
   "cell_type": "markdown",
   "metadata": {},
   "source": [
    "# Visualisation\n",
    "\n",
    "We are going to learn the single method `plot`.  Sounds like an easy worksheet, but this one method can do lots of things.  As you see all the options, think of the base concepts at play.  What is a method call, what is a parameter, what values are series and which are data frames?\n",
    "\n",
    "[The pandas documentation for visualisation](https://pandas.pydata.org/docs/user_guide/visualization.html) is quite good.  You might consider consulting it as you go through this worksheet.\n",
    "\n",
    "## Choosing the right viz\n",
    "\n",
    "Key to effective use of visualisation is choosing the right visualisation for the data you have.  The following table is a rough guide\n",
    "\n",
    "| plot | use |\n",
    "|------|-----|\n",
    "| line | time series data |\n",
    "| bar  | comparison of quantities |\n",
    "| box  | comparison of a spread of values | \n",
    "| scatter | looking for correlations |\n",
    "| pie | data adds up to a whole |\n",
    "| hexbin | looking for correlations in high-denisty data |\n",
    "| grouped scatter | looking for characteristic differences in populations |\n",
    "\n",
    "# `plot`\n",
    "\n",
    "Everything comes down to this one method.  As a base it:\n",
    "  * works on a series\n",
    "  * creates a line plot\n",
    "\n",
    "In this example, I plot the cummulative rainfall for Mt Boyce in 2022.  Note, I use the [`cumsum` method](https://pandas.pydata.org/docs/reference/api/pandas.Series.cumsum.html) that makes a new series from an existing series and plot that instead of plotting data from the original frame"
   ]
  },
  {
   "cell_type": "code",
   "execution_count": null,
   "metadata": {},
   "outputs": [],
   "source": [
    "import pandas as pd\n",
    "\n",
    "rainfall = pd.read_csv(\"data/rainfall/IDCJAC0009_063292_1800_Data.csv\")\n",
    "choose_2022 = rainfall[\"Year\"] == 2022\n",
    "amount_2022 = rainfall[choose_2022][\"Rainfall amount (millimetres)\"]\n",
    "cummulative_2022 = amount_2022.cumsum()\n",
    "ax=cummulative_2022.plot(legend=True)"
   ]
  },
  {
   "cell_type": "markdown",
   "metadata": {},
   "source": [
    "# Exercise - rainfall line\n",
    "\n",
    "Use a line plot to plot the \"Rainfall amount (millimetres)\" series from Mt Kuringai (station 066119).  This plot is much harder to interpret - why is this?  Can you see why we plotted cummulative rainfall instead?"
   ]
  },
  {
   "cell_type": "code",
   "execution_count": null,
   "metadata": {},
   "outputs": [],
   "source": [
    "# put solution here\n",
    "mt_kuringai = pd.read_csv(\"data/rainfall/IDCJAC0009_066119_1800_Data.csv\")\n",
    "rainfall = mt_kuringai[\"Rainfall amount (millimetres)\"]\n",
    "\n",
    "#ax=rainfall.plot(legend=True)\n",
    "\n",
    "rainfall_cum = rainfall.cumsum()\n",
    "\n",
    "ax=rainfall_cum.plot(legend=True)"
   ]
  }
 ],
 "metadata": {
  "kernelspec": {
   "display_name": "Python 3",
   "language": "python",
   "name": "python3"
  },
  "language_info": {
   "codemirror_mode": {
    "name": "ipython",
    "version": 3
   },
   "file_extension": ".py",
   "mimetype": "text/x-python",
   "name": "python",
   "nbconvert_exporter": "python",
   "pygments_lexer": "ipython3",
   "version": "3.8.10"
  },
  "orig_nbformat": 4
 },
 "nbformat": 4,
 "nbformat_minor": 2
}
