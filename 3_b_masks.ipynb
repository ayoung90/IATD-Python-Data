{
 "cells": [
  {
   "attachments": {},
   "cell_type": "markdown",
   "metadata": {},
   "source": [
    "# Mask\n",
    "\n",
    "A mask is a Series with the same index as your dataframe where every value is a boolean"
   ]
  },
  {
   "cell_type": "code",
   "execution_count": null,
   "metadata": {},
   "outputs": [],
   "source": [
    "import pandas as pd\n",
    "\n",
    "wentworth = pd.read_csv(\"data/rainfall/IDCJAC0009_047045_1800_Data.csv\")\n",
    "\n",
    "# get a series\n",
    "year = wentworth[\"Year\"]\n",
    "\n",
    "# create a boolean series from that\n",
    "mask = year < 1934\n",
    "\n",
    "mask\n",
    "\n"
   ]
  },
  {
   "attachments": {},
   "cell_type": "markdown",
   "metadata": {},
   "source": [
    "Notice how the mask has the exact same index as the DataFrame it was taken from - this is good news because we can use it to filter the rows of the DataFrame.\n",
    "\n",
    "The key is that _if you put a mask in the square brackets of a DataFrame, instead of getting columns, you get all the rows where that mask has True_"
   ]
  },
  {
   "cell_type": "code",
   "execution_count": null,
   "metadata": {},
   "outputs": [],
   "source": [
    "wentworth[mask]"
   ]
  },
  {
   "cell_type": "markdown",
   "metadata": {},
   "source": [
    "# Exercises\n",
    "\n",
    "1. Show only the _rainfall amount_ (not the other columns) for 1945 in Wentworth\n",
    "2. Show only the _rainfall amounts_ for every January in Wentworth\n",
    "3. Show only the _rainfall amount_ (not the other columns) for January 1945 in Wentworth (hint:  You need to use some boolean algebra)"
   ]
  },
  {
   "cell_type": "code",
   "execution_count": null,
   "metadata": {},
   "outputs": [],
   "source": [
    "###############################################################################\n",
    "# Show only the rainfall amount (not the other columns) for 1945 in Wentworth\n",
    "###############################################################################\n",
    "\n",
    "mask_1945 = wentworth[\"Year\"] == 1945\n",
    "\n",
    "rainfall_series_1945 = wentworth[mask_1945][\"Rainfall amount (millimetres)\"]\n",
    "\n",
    "pd.DataFrame(rainfall_series_1945)\n",
    "\n",
    "###############################################################################\n",
    "# Show only the rainfall amounts for every January in Wentworth\n",
    "###############################################################################\n",
    "\n",
    "mask_january = wentworth[\"Month\"] == 1\n",
    "\n",
    "rainfall_series_january = wentworth[mask_january][\"Rainfall amount (millimetres)\"]\n",
    "\n",
    "pd.DataFrame(rainfall_series_january)\n",
    "\n",
    "###############################################################################\n",
    "# Show only the rainfall amount (not the other columns) for January 1945 in Wentworth (hint:  You need to use some boolean algebra)\n",
    "###############################################################################\n",
    "\n",
    "mask_january_1945 = (wentworth[\"Year\"] == 1945) & (wentworth[\"Month\"] == 1)\n",
    "\n",
    "rainfall_series_january_1945 = wentworth[mask_january_1945][\"Rainfall amount (millimetres)\"]\n",
    "\n",
    "pd.DataFrame(rainfall_series_january_1945)\n"
   ]
  },
  {
   "cell_type": "markdown",
   "metadata": {},
   "source": [
    "Masks are a simple concept, but they are used absolutley everywhere.  I like to make sure each mask has a name, just like in the above example, but many pandas programmers will put the mask right in the square brackets, so the above example looks like this"
   ]
  },
  {
   "cell_type": "code",
   "execution_count": null,
   "metadata": {},
   "outputs": [],
   "source": [
    "wentworth[wentworth[\"Year\"] < 1934]"
   ]
  },
  {
   "cell_type": "markdown",
   "metadata": {},
   "source": [
    "I personally don't like this style, but most pandas programmers will use it - maybe they like showing off.\n",
    "\n",
    "# Exercise\n",
    "\n",
    "Show only the _rainfall amount_ (not the other columns) for January 1945 in Wentworth but do it in just one line of Python!"
   ]
  },
  {
   "cell_type": "code",
   "execution_count": null,
   "metadata": {},
   "outputs": [],
   "source": [
    "###############################################################################\n",
    "# Show only the rainfall amount (not the other columns) for January 1945 in Wentworth but do it in just one line of Python!\n",
    "###############################################################################\n",
    "\n",
    "pd.DataFrame(wentworth[(wentworth[\"Year\"] == 1945) & (wentworth[\"Month\"] == 1)][\"Rainfall amount (millimetres)\"])"
   ]
  }
 ],
 "metadata": {
  "kernelspec": {
   "display_name": "Python 3",
   "language": "python",
   "name": "python3"
  },
  "language_info": {
   "codemirror_mode": {
    "name": "ipython",
    "version": 3
   },
   "file_extension": ".py",
   "mimetype": "text/x-python",
   "name": "python",
   "nbconvert_exporter": "python",
   "pygments_lexer": "ipython3",
   "version": "3.8.10"
  },
  "orig_nbformat": 4
 },
 "nbformat": 4,
 "nbformat_minor": 2
}
