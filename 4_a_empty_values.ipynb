{
 "cells": [
  {
   "attachments": {},
   "cell_type": "markdown",
   "metadata": {},
   "source": [
    "# Consequences of emptyness\n",
    "\n",
    "Emptiness is not the simplest of concepts for a computer.  To represent true emptiness, a computer needs to be doing nothing - which begs the question \"how do you process emptiness?\".  The answer is that we designate special values as representing emptiness, we explore these here\n",
    "\n",
    "## Zero is not nothing\n",
    "\n",
    "Consider the rainfall data for Mount Boyce"
   ]
  },
  {
   "cell_type": "code",
   "execution_count": null,
   "metadata": {},
   "outputs": [],
   "source": [
    "import pandas\n",
    "\n",
    "mtboyce = pandas.read_csv(\"data/rainfall/IDCJAC0009_063292_1800_Data.csv\")\n",
    "mtboyce[mtboyce[\"Rainfall amount (millimetres)\"] == 0]"
   ]
  },
  {
   "cell_type": "markdown",
   "metadata": {},
   "source": [
    "There are 531 rows where the rainfall measurements is missing, and there are 4947 rows were the rainfall measured was 0.  _These are clearly different things_.  If you were to put zero in all the empty spots, you would be suggesting an extra 531 days were it didn't rain.  There was surely rain on at least some of those days, even if it didn't get measured.\n",
    "\n",
    "Keeping the concept of \"Zero\" separate from \"emptiness\" is very important.\n",
    "\n",
    "The main type of emptiness to consider in pandas is `NaN` (not a number).  Where pandas expects a number, but sees nothing, it will put this special value.  `NaN`s are treated very differently to 0.  Note that `NaN` comes from the `numpy` library which pandas has been using all along without us realising and we need to import it is we want to make our own `NaN`s"
   ]
  },
  {
   "cell_type": "code",
   "execution_count": null,
   "metadata": {},
   "outputs": [],
   "source": [
    "import numpy\n",
    "\n",
    "some_nans = pandas.Series([0,1,2,3,numpy.NaN, 4, 5, numpy.NaN])\n",
    "no_nans = pandas.Series([0,1,2,3,0,4,5,0])\n",
    "\n",
    "print(some_nans.mean())\n",
    "print(no_nans.mean())\n",
    "\n",
    "print(some_nans.sum())\n",
    "print(no_nans.sum())\n",
    "\n",
    "print(some_nans.info())\n",
    "print(no_nans.info())"
   ]
  },
  {
   "cell_type": "markdown",
   "metadata": {},
   "source": [
    "As you can see, you can the _aggregation_ operations ignore `NaN`s, treating them as missing instead of as 0.  Thus you need to be quite careful with what you do to `NaN`s\n",
    "\n",
    "# Finding NaNs\n",
    "\n",
    "pandas has methods to help us find NaNs\n",
    "  * isna()\n",
    "  * isnull()  "
   ]
  },
  {
   "cell_type": "code",
   "execution_count": null,
   "metadata": {},
   "outputs": [],
   "source": [
    "some_nans.isna()"
   ]
  },
  {
   "cell_type": "code",
   "execution_count": null,
   "metadata": {},
   "outputs": [],
   "source": [
    "some_nans.isnull()"
   ]
  },
  {
   "cell_type": "markdown",
   "metadata": {},
   "source": [
    "They both do the same thing!  Why is there two names?  There are actually even more names!  \"NaN\", \"na\", \"Null\", \"None\" are all names you will see used for missing values.  There _are sometimes_ differences between them, but for our purposes we will treat them as synonyms.\n",
    "\n",
    "# Exercise - copy me\n",
    "\n",
    "Work out the two lines of pandas I used to work out how many missing values and how many zeros there were in the mtboyce rainfall column."
   ]
  },
  {
   "cell_type": "code",
   "execution_count": null,
   "metadata": {},
   "outputs": [],
   "source": [
    "count_of_nulls = len(mtboyce[mtboyce[\"Rainfall amount (millimetres)\"].isna()].axes[0])\n",
    "count_of_zeros = len(mtboyce[mtboyce[\"Rainfall amount (millimetres)\"] == 0].axes[0])\n",
    "\n",
    "print(\"number of null values = \" + str(count_of_nulls))\n",
    "print(\"number of 0 values = \" + str(count_of_zeros))"
   ]
  },
  {
   "cell_type": "markdown",
   "metadata": {},
   "source": [
    "# Dealing with missing values\n",
    "\n",
    "You have three options:\n",
    "  * fillna\n",
    "  * dropna\n",
    "  * do it by hand\n",
    "\n",
    "fillna will put some new value everywhere there is a missing value.  dropna will drop all rows that have a missing value in any of the columns.  Both of these are very blunt instruments.  We strongly recommend you do it by hand.  Make a judgement call, and write the pandas to put effect to your choice.\n",
    "\n",
    "# Exercise - drop it like its hot\n",
    "\n",
    "Try out `dropna` on the Mt Boyce data frame.  How many rows did you lose?  Can you explain why that many were lost?"
   ]
  },
  {
   "cell_type": "code",
   "execution_count": null,
   "metadata": {},
   "outputs": [],
   "source": [
    "drop_na_test = mtboyce.dropna()\n",
    "\n",
    "orig_count = len(mtboyce.axes[0])\n",
    "drop_count = len(drop_na_test.axes[0])\n",
    "\n",
    "diff = orig_count - drop_count\n",
    "\n",
    "print(\"Original count \\t= \" + str(orig_count))\n",
    "print(\"Dropped count \\t= \" + str(drop_count))\n",
    "print(\"-\" * 25)\n",
    "print(\"Lost rows \\t= \" + str(diff))\n",
    "print(\"\\nRows were lost because dropna drops the whole row if there is a na in any column!\")"
   ]
  }
 ],
 "metadata": {
  "kernelspec": {
   "display_name": "Python 3",
   "language": "python",
   "name": "python3"
  },
  "language_info": {
   "codemirror_mode": {
    "name": "ipython",
    "version": 3
   },
   "file_extension": ".py",
   "mimetype": "text/x-python",
   "name": "python",
   "nbconvert_exporter": "python",
   "pygments_lexer": "ipython3",
   "version": "3.8.10"
  },
  "orig_nbformat": 4
 },
 "nbformat": 4,
 "nbformat_minor": 2
}
